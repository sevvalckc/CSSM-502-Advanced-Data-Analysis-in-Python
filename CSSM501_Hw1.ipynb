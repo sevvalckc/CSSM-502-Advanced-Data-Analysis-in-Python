{
  "nbformat": 4,
  "nbformat_minor": 0,
  "metadata": {
    "colab": {
      "provenance": []
    },
    "kernelspec": {
      "name": "python3",
      "display_name": "Python 3"
    },
    "language_info": {
      "name": "python"
    }
  },
  "cells": [
    {
      "cell_type": "markdown",
      "source": [
        "# Problem 1 – Number Guessing Game\n",
        "This program generates a random number between 1 and 20.  \n",
        "The user keeps guessing until the correct number is found.\n",
        "It tells the user if their guess is too high or too low."
      ],
      "metadata": {
        "id": "c7D2KeSG2Z0w"
      }
    },
    {
      "cell_type": "code",
      "execution_count": 3,
      "metadata": {
        "colab": {
          "base_uri": "https://localhost:8080/"
        },
        "id": "kqPpZpUgxVNH",
        "outputId": "f9611a7f-1dba-4e90-88be-9d84c9a78d86"
      },
      "outputs": [
        {
          "output_type": "stream",
          "name": "stdout",
          "text": [
            "Guess the number (between 1 and 20)!\n",
            "Enter your guess: 3\n",
            "Too low! Try again.\n",
            "Enter your guess: 5\n",
            "Too high! Try again.\n",
            "Enter your guess: 4\n",
            "🎉 Correct! You guessed the number!\n"
          ]
        }
      ],
      "source": [
        "import random\n",
        "\n",
        "# Generate a random number between 1 and 20\n",
        "correct_number = random.randint(1, 20)\n",
        "\n",
        "print(\"Guess the number (between 1 and 20)!\")\n",
        "\n",
        "while True:\n",
        "    guess = int(input(\"Enter your guess: \"))\n",
        "\n",
        "    if guess == correct_number:\n",
        "        print(\"🎉 Correct! You guessed the number!\")\n",
        "        break\n",
        "    elif guess < correct_number:\n",
        "        print(\"Too low! Try again.\")\n",
        "    else:\n",
        "        print(\"Too high! Try again.\")"
      ]
    },
    {
      "cell_type": "markdown",
      "source": [
        "# Problem 2 – Search Insert Position\n",
        "Given a sorted array of distinct integers and a target value,  \n",
        "return the index if the target is found.  \n",
        "If not, return the index where it would be if it were inserted in order."
      ],
      "metadata": {
        "id": "rYYw9vM-IV7W"
      }
    },
    {
      "cell_type": "code",
      "source": [
        "def search_insert(nums, target):\n",
        "    # nums: a sorted list of distinct integers\n",
        "    # target: the integer to find or insert\n",
        "\n",
        "    for i in range(len(nums)):\n",
        "        # If the current element is greater than or equal to the target,\n",
        "        # the target should be inserted at this position\n",
        "        if nums[i] >= target:\n",
        "            return i\n",
        "    # If the target is greater than all elements, insert it at the end\n",
        "    return len(nums)\n",
        "\n",
        "# Example usage\n",
        "nums = [1, 3, 5, 6]\n",
        "print(search_insert(nums, 5))  # Output: 2\n",
        "print(search_insert(nums, 2))  # Output: 1\n",
        "print(search_insert(nums, 7))  # Output: 4\n",
        "print(search_insert(nums, 0))  # Output: 0\n"
      ],
      "metadata": {
        "colab": {
          "base_uri": "https://localhost:8080/"
        },
        "id": "qRnyG2-fIYLd",
        "outputId": "c1261909-e64a-47a3-e368-fef5b1e783c8"
      },
      "execution_count": 2,
      "outputs": [
        {
          "output_type": "stream",
          "name": "stdout",
          "text": [
            "2\n",
            "1\n",
            "4\n",
            "0\n"
          ]
        }
      ]
    },
    {
      "cell_type": "markdown",
      "source": [
        "# Problem 3 – Add Binary\n",
        "Given two binary strings `a` and `b`, return their sum as a binary string.\n",
        "\n",
        "**Example:**  \n",
        "Input: a = \"11\", b = \"1\"  \n",
        "Output: \"100\""
      ],
      "metadata": {
        "id": "Q_1aI5InJPMI"
      }
    },
    {
      "cell_type": "code",
      "source": [
        "def add_binary(a, b):\n",
        "    # Convert binary strings to integers\n",
        "    num1 = int(a, 2)\n",
        "    num2 = int(b, 2)\n",
        "\n",
        "    # Compute the sum\n",
        "    total = num1 + num2\n",
        "\n",
        "    # Convert the sum back to a binary string\n",
        "    return bin(total)[2:]\n",
        "\n",
        "# Example usage\n",
        "print(add_binary(\"11\", \"1\"))      # Output: \"100\"\n",
        "print(add_binary(\"1010\", \"1011\")) # Output: \"10101\"\n"
      ],
      "metadata": {
        "colab": {
          "base_uri": "https://localhost:8080/"
        },
        "id": "Zl6ntVA9JaFg",
        "outputId": "9e51044c-1a7c-4daf-c3d7-6ed40252d1d1"
      },
      "execution_count": 4,
      "outputs": [
        {
          "output_type": "stream",
          "name": "stdout",
          "text": [
            "100\n",
            "10101\n"
          ]
        }
      ]
    },
    {
      "cell_type": "markdown",
      "source": [
        "# Problem 4 – Single Number\n",
        "Given a non-empty array of integers `nums`, every element appears twice except for one.  \n",
        "Find and return that single one.\n"
      ],
      "metadata": {
        "id": "pWJNB3rAKNCW"
      }
    },
    {
      "cell_type": "code",
      "source": [
        "def single_number(nums):\n",
        "    # Initialize a variable to hold the result\n",
        "    unique = 0\n",
        "\n",
        "    # XOR all numbers together\n",
        "    for num in nums:\n",
        "        unique ^= num  # XOR cancels out duplicates\n",
        "\n",
        "    return unique\n",
        "\n",
        "# Example usage\n",
        "print(single_number([2, 2, 1]))       # Output: 1\n",
        "print(single_number([4, 1, 2, 1, 2])) # Output: 4\n",
        "print(single_number([1]))             # Output: 1\n"
      ],
      "metadata": {
        "colab": {
          "base_uri": "https://localhost:8080/"
        },
        "id": "UgOQUAHaKQgf",
        "outputId": "12b2c3ff-5e08-4457-f8b3-303e0f0fe06d"
      },
      "execution_count": 5,
      "outputs": [
        {
          "output_type": "stream",
          "name": "stdout",
          "text": [
            "1\n",
            "4\n",
            "1\n"
          ]
        }
      ]
    },
    {
      "cell_type": "markdown",
      "source": [
        "# Problem 5 – DNA Repeated Sequences\n",
        "A DNA sequence is composed of the characters `'A'`, `'C'`, `'G'`, and `'T'`.\n",
        "\n",
        "Given a string `s` that represents a DNA molecule,  \n",
        "return all the 10-letter-long sequences (substrings)  \n",
        "that occur more than once in the DNA molecule.\n",
        "\n",
        "**Example:**  \n",
        "Input: s = \"AAAAACCCCCAAAAACCCCCCAAAAAGGGTTT\"  \n",
        "Output: [\"AAAAACCCCC\", \"CCCCCAAAAA\"]\n"
      ],
      "metadata": {
        "id": "PDRzNSg4KUbC"
      }
    },
    {
      "cell_type": "code",
      "source": [
        "def find_repeated_dna_sequences(s):\n",
        "    seen = set()        # stores all 10-letter sequences we've seen\n",
        "    repeated = set()    # stores sequences that appear more than once\n",
        "\n",
        "    for i in range(len(s) - 9):  # -9 because we need substrings of length 10\n",
        "        sequence = s[i:i+10]\n",
        "        if sequence in seen:\n",
        "            repeated.add(sequence)\n",
        "        else:\n",
        "            seen.add(sequence)\n",
        "\n",
        "    return list(repeated)\n",
        "\n",
        "# Example usage\n",
        "s = \"AAAAACCCCCAAAAACCCCCCAAAAAGGGTTT\"\n",
        "print(find_repeated_dna_sequences(s))\n",
        "# Output: ['AAAAACCCCC', 'CCCCCAAAAA']\n"
      ],
      "metadata": {
        "colab": {
          "base_uri": "https://localhost:8080/"
        },
        "id": "vLsGeB6OKhFf",
        "outputId": "d9b038d3-54aa-4ca8-a76a-e3218564481b"
      },
      "execution_count": 6,
      "outputs": [
        {
          "output_type": "stream",
          "name": "stdout",
          "text": [
            "['CCCCCAAAAA', 'AAAAACCCCC']\n"
          ]
        }
      ]
    }
  ]
}